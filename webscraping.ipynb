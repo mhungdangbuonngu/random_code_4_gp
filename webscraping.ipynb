{
 "cells": [
  {
   "cell_type": "code",
   "execution_count": 1,
   "metadata": {},
   "outputs": [],
   "source": [
    "from datetime import date\n",
    "from selenium import webdriver\n",
    "#from selenium.webdriver.common.keys import Keys\n",
    "#from selenium.webdriver.common.by import By\n",
    "from datetime import date\n",
    "driver = webdriver.Chrome()\n",
    "driver.get('https://www.traveloka.com/en-vn/hotel/search?spec=14-08-2024.15-08-2024.1.1.HOTEL_GEO.10009843.Hanoi.2')"
   ]
  },
  {
   "cell_type": "markdown",
   "metadata": {},
   "source": [
    "#scraping the data(name of the hotel)"
   ]
  },
  {
   "cell_type": "code",
   "execution_count": 2,
   "metadata": {},
   "outputs": [],
   "source": [
    "from bs4 import BeautifulSoup as bp"
   ]
  },
  {
   "cell_type": "code",
   "execution_count": 3,
   "metadata": {},
   "outputs": [],
   "source": [
    "from function import *"
   ]
  },
  {
   "cell_type": "code",
   "execution_count": 4,
   "metadata": {},
   "outputs": [
    {
     "name": "stdout",
     "output_type": "stream",
     "text": [
      "Number of hotels found: 19\n",
      "Number of prices found: 19\n",
      "Number of hotels found: 19\n",
      "Number of prices found: 19\n"
     ]
    }
   ],
   "source": [
    "\n",
    "import time\n",
    "from datetime import timedelta, datetime\n",
    "hotel_data = []\n",
    "\n",
    "soup = bp(driver.page_source, \"html.parser\")\n",
    "hotels = soup.find_all(\"h3\", class_ = \"css-4rbku5 css-901oao css-cens5h r-t1w4ow r-ubezar r-b88u0q r-rjixqe r-fdjqy7\")\n",
    "prices = soup.find_all(\"div\", class_ = \"css-901oao r-t1w4ow r-adyw6z r-b88u0q r-135wba7 r-1ff274t\")\n",
    "print(f\"Number of hotels found: {len(hotels)}\")\n",
    "print(f\"Number of prices found: {len(prices)}\")\n",
    "ratings, reviewers = define_hotel_rating_and_reviewers(hotels)\n",
    "print(f\"Number of hotels found: {len(ratings)}\")\n",
    "print(f\"Number of prices found: {len(reviewers)}\")\n",
    "for index in range(len(hotels)):\n",
    "    hotel_data.append([hotels[index].string, prices[index].text.strip(), ratings[index], reviewers[index]])"
   ]
  },
  {
   "cell_type": "code",
   "execution_count": 6,
   "metadata": {},
   "outputs": [],
   "source": [
    "import pandas as pd\n",
    "\n",
    "# Convert the nested data to a DataFrame\n",
    "hotel = pd.DataFrame(hotel_data, columns = [\"Name\", \"Price\", \"Rating\", \"Reviewer\"])\n",
    "\n",
    "# hotel.set_index([\"Check-In Date\", \"Name\"], inplace = True)\n",
    "\n",
    "# Save the DataFrame to an Excel file\n",
    "hotel.to_excel(\"E:/GitHub/random_code_4_gp/hotel_data.xlsx\")"
   ]
  },
  {
   "cell_type": "code",
   "execution_count": 7,
   "metadata": {},
   "outputs": [
    {
     "name": "stdout",
     "output_type": "stream",
     "text": [
      "File đã được lưu thành công tại E:/GitHub/random_code_4_gp/html.txt\n"
     ]
    }
   ],
   "source": [
    "# Định nghĩa tên file và nội dung\n",
    "file_name = \"E:/GitHub/random_code_4_gp/html.txt\"\n",
    "\n",
    "\n",
    "# Mở file để ghi (sẽ tạo file nếu chưa tồn tại)\n",
    "with open(file_name, \"w\", encoding=\"utf-8\") as file:\n",
    "    file.write(driver.page_source)\n",
    "\n",
    "print(f\"File đã được lưu thành công tại {file_name}\")\n"
   ]
  },
  {
   "cell_type": "code",
   "execution_count": null,
   "metadata": {},
   "outputs": [],
   "source": []
  }
 ],
 "metadata": {
  "kernelspec": {
   "display_name": "Python 3",
   "language": "python",
   "name": "python3"
  },
  "language_info": {
   "codemirror_mode": {
    "name": "ipython",
    "version": 3
   },
   "file_extension": ".py",
   "mimetype": "text/x-python",
   "name": "python",
   "nbconvert_exporter": "python",
   "pygments_lexer": "ipython3",
   "version": "3.11.9"
  }
 },
 "nbformat": 4,
 "nbformat_minor": 2
}
